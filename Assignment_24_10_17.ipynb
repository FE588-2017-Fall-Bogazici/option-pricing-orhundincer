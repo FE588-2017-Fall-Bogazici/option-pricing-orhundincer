{
 "cells": [
  {
   "cell_type": "code",
   "execution_count": 1,
   "metadata": {},
   "outputs": [
    {
     "name": "stdout",
     "output_type": "stream",
     "text": [
      "Lookback\n",
      "Call Price: 0.622390644568\n",
      "Put Price: 10.4278538404\n"
     ]
    }
   ],
   "source": [
    "#lookback call put option pricing\n",
    "import numpy as np\n",
    "\n",
    "S0=100\n",
    "sigma=0.05\n",
    "r=0.05\n",
    "K=110\n",
    "T=1\n",
    "EPOCH=10000\n",
    "N=12\n",
    "C=0\n",
    "P=0\n",
    "for i in range(EPOCH):\n",
    "    S_list=[]\n",
    "    S=S0\n",
    "    for j in range(N):    \n",
    "        WT=np.random.randn()*np.sqrt(T/N)\n",
    "        S=S*np.exp((r-0.5*sigma**2)*(T/N)+sigma*WT)\n",
    "        S_list.append(S)\n",
    "        \n",
    "    C+= max(0, max(S_list)-K)\n",
    "    P+= max(0, K-min(S_list))\n",
    "print('Lookback')    \n",
    "call_price=(C/EPOCH)*np.exp(-r*T)\n",
    "put_price=(P/EPOCH)*np.exp(-r*T)\n",
    "print ('Call Price:', call_price)\n",
    "print ('Put Price:', put_price)"
   ]
  },
  {
   "cell_type": "code",
   "execution_count": 2,
   "metadata": {},
   "outputs": [
    {
     "name": "stdout",
     "output_type": "stream",
     "text": [
      "Lookback\n",
      "Call Price: 1.33916809102\n",
      "Put Price: 5.82750728987\n"
     ]
    }
   ],
   "source": [
    "#floating lookback call put option pricing\n",
    "import numpy as np\n",
    "\n",
    "S0=100\n",
    "sigma=0.05\n",
    "r=0.05\n",
    "K=110\n",
    "T=1\n",
    "EPOCH=10000\n",
    "N=12\n",
    "C=0\n",
    "P=0\n",
    "for i in range(EPOCH):\n",
    "    S_list=[]\n",
    "    S=S0\n",
    "    for j in range(N):    \n",
    "        WT=np.random.randn()*np.sqrt(T/N)\n",
    "        S=S*np.exp((r-0.5*sigma**2)*(T/N)+sigma*WT)\n",
    "        S_list.append(S)\n",
    "        \n",
    "    C+= max(0, max(S_list)-S)\n",
    "    P+= max(0, S-min(S_list))\n",
    "print('Lookback')    \n",
    "call_price=(C/EPOCH)*np.exp(-r*T)\n",
    "put_price=(P/EPOCH)*np.exp(-r*T)\n",
    "print ('Call Price:', call_price)\n",
    "print ('Put Price:', put_price)"
   ]
  }
 ],
 "metadata": {
  "kernelspec": {
   "display_name": "Python 3",
   "language": "python",
   "name": "python3"
  },
  "language_info": {
   "codemirror_mode": {
    "name": "ipython",
    "version": 3
   },
   "file_extension": ".py",
   "mimetype": "text/x-python",
   "name": "python",
   "nbconvert_exporter": "python",
   "pygments_lexer": "ipython3",
   "version": "3.6.1"
  }
 },
 "nbformat": 4,
 "nbformat_minor": 2
}
